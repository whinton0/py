{
 "cells": [
  {
   "cell_type": "code",
   "execution_count": 1,
   "id": "2ec544b1-49a0-4418-a766-73b810d6249a",
   "metadata": {},
   "outputs": [],
   "source": [
    "# Analysis of Regression Models for Abalone Age Prediction"
   ]
  },
  {
   "cell_type": "code",
   "execution_count": 2,
   "id": "b6cd9240-3701-4cea-b4f7-70a2c34936ee",
   "metadata": {},
   "outputs": [],
   "source": [
    "__author__ = \"Will Hinton\"\n",
    "__email__ = \"willhint@gmail.com\"\n",
    "__website__ = \"whinton0.github.io/py\""
   ]
  },
  {
   "cell_type": "code",
   "execution_count": 3,
   "id": "11a07a5d-cdca-4b3b-a201-bed182d3a20b",
   "metadata": {},
   "outputs": [],
   "source": [
    "import pandas as pd\n",
    "import numpy as np\n",
    "from sklearn.model_selection import train_test_split\n",
    "from sklearn.preprocessing import StandardScaler\n",
    "from sklearn.linear_model import LinearRegression\n",
    "from sklearn.ensemble import RandomForestRegressor\n",
    "from sklearn.metrics import mean_squared_log_error\n",
    "import ace_tools_open as tools"
   ]
  },
  {
   "cell_type": "markdown",
   "id": "ca11e7ae-3489-4683-abab-d49dbc48b292",
   "metadata": {},
   "source": [
    "## Load datasets into DataFrames\n",
    "- train.csv contains training data with features and target variables (Rings) \n",
    "- test.csv contains test data where the target variable needs to be predicted "
   ]
  },
  {
   "cell_type": "code",
   "execution_count": 4,
   "id": "015fba76-aa47-49c3-9a52-a6545deac901",
   "metadata": {},
   "outputs": [],
   "source": [
    " train_df = pd.read_csv(\"train.csv\")\n",
    " test_df = pd.read_csv(\"test.csv\")\n",
    " sample_submission = pd.read_csv(\"sample_submission.csv\")"
   ]
  },
  {
   "cell_type": "markdown",
   "id": "34a2f54e-0901-47ca-bb35-342f43184b22",
   "metadata": {},
   "source": [
    "## Encode categorical variable \n",
    "- Encode categorical variable 'Sex' using one-hot encoding \n",
    "- This converts the categorical 'Sex' column into numerical values"
   ]
  },
  {
   "cell_type": "code",
   "execution_count": 5,
   "id": "0c20ef33-7efa-476b-92b8-eac489bda079",
   "metadata": {},
   "outputs": [],
   "source": [
    "train_df = pd.get_dummies(train_df, columns=['Sex'], drop_first=True)\n",
    "test_df = pd.get_dummies(test_df, columns=['Sex'], drop_first=True)"
   ]
  },
  {
   "cell_type": "markdown",
   "id": "0351f386-3208-4ab5-8196-ef24af84b5fd",
   "metadata": {},
   "source": [
    "## Define features and target variable\n",
    "- 'id' is dropped as it is not a relevant feature"
   ]
  },
  {
   "cell_type": "code",
   "execution_count": 6,
   "id": "833577af-d7a3-461c-bd9b-10b574e0d2d5",
   "metadata": {},
   "outputs": [],
   "source": [
    " X = train_df.drop(columns=['id', 'Rings'])  # Feature set\n",
    " y = train_df['Rings']  # Target variable"
   ]
  },
  {
   "cell_type": "markdown",
   "id": "d6467143-2e9f-42f9-a4ed-c47f1d62513b",
   "metadata": {},
   "source": [
    "## Split into training and validation sets\n",
    "- Split into training and validation sets (80% train, 20% validation) \n",
    "- This helps evaluate model performance before applying to the test set"
   ]
  },
  {
   "cell_type": "code",
   "execution_count": 7,
   "id": "ac2c81b1-c5ee-4475-a6c6-2b49bd2b2482",
   "metadata": {},
   "outputs": [],
   "source": [
    " X_train, X_valid, y_train, y_valid = train_test_split(X, y, test_size=0.2, random_state=42)"
   ]
  },
  {
   "cell_type": "markdown",
   "id": "8c62d8d5-0159-47a6-b0d6-f53f5892658d",
   "metadata": {},
   "source": [
    "# Standardize numerical features\n",
    "- Scaling ensures all features contribute equally to the model"
   ]
  },
  {
   "cell_type": "code",
   "execution_count": 8,
   "id": "c4fec186-79a9-4a20-83e7-4a9e00716e31",
   "metadata": {},
   "outputs": [],
   "source": [
    " scaler = StandardScaler()\n",
    " X_train_scaled = scaler.fit_transform(X_train)\n",
    " X_valid_scaled = scaler.transform(X_valid)\n",
    " X_test_scaled = scaler.transform(test_df.drop(columns=['id'], errors='ignore'))  # Apply same scaling to test set"
   ]
  },
  {
   "cell_type": "markdown",
   "id": "12e7ccd9-0bf8-46f5-8bf4-a15d12ece570",
   "metadata": {},
   "source": [
    "## Define RMSLE  \n",
    "- Define RMSLE function (Root Mean Squared Logarithmic Error) \n",
    "- RMSLE penalizes under-predictions more than over-predictions \n",
    "- It helps measure model accuracy for data with skewed distributions"
   ]
  },
  {
   "cell_type": "code",
   "execution_count": 9,
   "id": "fa12a122-fc69-48ff-9628-843b444a10b0",
   "metadata": {},
   "outputs": [],
   "source": [
    " def rmsle(y_true, y_pred):\n",
    "     return np.sqrt(mean_squared_log_error(y_true, np.maximum(y_pred, 0)))  # Only non-negative predictions"
   ]
  },
  {
   "cell_type": "markdown",
   "id": "e14cc56c-2ede-4d78-8d87-957434c1be52",
   "metadata": {},
   "source": [
    "## Train Linear Regression Model\n",
    "- Simple regression model assumes a linear relationship between features and target"
   ]
  },
  {
   "cell_type": "code",
   "execution_count": 10,
   "id": "f6f4c882-7cde-483f-86fa-b979d752cde6",
   "metadata": {},
   "outputs": [],
   "source": [
    " lr_model = LinearRegression()\n",
    " lr_model.fit(X_train_scaled, y_train)\n",
    " y_pred_lr = lr_model.predict(X_valid_scaled) "
   ]
  },
  {
   "cell_type": "markdown",
   "id": "9f34f216-16cf-4e00-8f9d-709c555818cb",
   "metadata": {},
   "source": [
    "## Train Random Forest Model\n",
    "- An ensemble learning method that builds multiple decision trees to improve predictions \n",
    "(James et al. ISLP, 2023)"
   ]
  },
  {
   "cell_type": "code",
   "execution_count": 11,
   "id": "094a4700-c3af-4543-99ea-19b0c4a8019e",
   "metadata": {},
   "outputs": [],
   "source": [
    " rf_model = RandomForestRegressor(n_estimators=100, random_state=42)\n",
    " rf_model.fit(X_train_scaled, y_train)\n",
    " y_pred_rf = rf_model.predict(X_valid_scaled)"
   ]
  },
  {
   "cell_type": "markdown",
   "id": "79c41200-c3e2-41c7-b88c-ebb66734be2a",
   "metadata": {},
   "source": [
    " ## Evaluate models using RMSLE"
   ]
  },
  {
   "cell_type": "code",
   "execution_count": 12,
   "id": "d8ef199f-8729-4ec3-8d3e-d2aa310bf780",
   "metadata": {},
   "outputs": [],
   "source": [
    " rmsle_lr = rmsle(y_valid, y_pred_lr)  # Evaluate Linear Regression\n",
    " rmsle_rf = rmsle(y_valid, y_pred_rf)  # Evaluate Random Forest"
   ]
  },
  {
   "cell_type": "markdown",
   "id": "12ac43ce-05eb-451b-9097-98ce740e25a1",
   "metadata": {},
   "source": [
    "## Prepare results for display\n",
    "- Compare the performance of the two models based on RMSLE \n",
    "- Display results"
   ]
  },
  {
   "cell_type": "code",
   "execution_count": 13,
   "id": "b2cc26c1-8c3a-41bf-ab9a-61dc088af58b",
   "metadata": {},
   "outputs": [
    {
     "data": {
      "text/html": [
       "<div>\n",
       "<style scoped>\n",
       "    .dataframe tbody tr th:only-of-type {\n",
       "        vertical-align: middle;\n",
       "    }\n",
       "\n",
       "    .dataframe tbody tr th {\n",
       "        vertical-align: top;\n",
       "    }\n",
       "\n",
       "    .dataframe thead th {\n",
       "        text-align: right;\n",
       "    }\n",
       "</style>\n",
       "<table border=\"1\" class=\"dataframe\">\n",
       "  <thead>\n",
       "    <tr style=\"text-align: right;\">\n",
       "      <th></th>\n",
       "      <th>Model</th>\n",
       "      <th>RMSLE</th>\n",
       "    </tr>\n",
       "  </thead>\n",
       "  <tbody>\n",
       "    <tr>\n",
       "      <th>0</th>\n",
       "      <td>Linear Regression</td>\n",
       "      <td>0.166774</td>\n",
       "    </tr>\n",
       "    <tr>\n",
       "      <th>1</th>\n",
       "      <td>Random Forest</td>\n",
       "      <td>0.156000</td>\n",
       "    </tr>\n",
       "  </tbody>\n",
       "</table>\n",
       "</div>"
      ],
      "text/plain": [
       "               Model     RMSLE\n",
       "0  Linear Regression  0.166774\n",
       "1      Random Forest  0.156000"
      ]
     },
     "execution_count": 13,
     "metadata": {},
     "output_type": "execute_result"
    }
   ],
   "source": [
    "results_df = pd.DataFrame({\n",
    "     \"Model\": [\"Linear Regression\", \"Random Forest\"],\n",
    "     \"RMSLE\": [rmsle_lr, rmsle_rf]\n",
    "})\n",
    "\n",
    "#tools.display_dataframe_to_user(name=\"Model Evaluation (RMSLE)\", dataframe=results_df)\n",
    "results_df"
   ]
  },
  {
   "cell_type": "markdown",
   "id": "ad2f68a5-b420-4d49-95b6-425ba0b0a4d0",
   "metadata": {},
   "source": [
    "## Make predictions - Linear Regression\n",
    "- Make predictions on the test dataset using Linear Regression \n",
    "- Predict Rings and ensure values are non-negative integers"
   ]
  },
  {
   "cell_type": "code",
   "execution_count": 14,
   "id": "5f7a2349-d53c-4e84-9e6d-587ad6fa203e",
   "metadata": {},
   "outputs": [],
   "source": [
    "test_df_lr = test_df[['id']].copy()\n",
    "test_df_lr['Rings'] = np.maximum(lr_model.predict(X_test_scaled), 0).astype(int)\n",
    "submission_lr_path = \"submission_lr.csv\"\n",
    "test_df_lr.to_csv(submission_lr_path, index=False)"
   ]
  },
  {
   "cell_type": "markdown",
   "id": "e8777df5-7810-4785-b0bb-b67260736a8c",
   "metadata": {},
   "source": [
    "## Make predictions - Random Forest\n",
    "- Make predictions on the test dataset using Random Forest \n",
    "- Predict Rings and ensure values are non-negative integers"
   ]
  },
  {
   "cell_type": "code",
   "execution_count": 15,
   "id": "0d10d466-476d-48f6-ae5a-b0b6701aa1ed",
   "metadata": {},
   "outputs": [],
   "source": [
    "test_df_rf = test_df[['id']].copy()\n",
    "test_df_rf['Rings'] = np.maximum(rf_model.predict(X_test_scaled), 0).astype(int)\n",
    "submission_rf_path = \"submission_rf.csv\"\n",
    "test_df_rf.to_csv(submission_rf_path, index=False)"
   ]
  },
  {
   "cell_type": "markdown",
   "id": "a1e19c24-2ed0-42a6-975a-3a5a7ae6123d",
   "metadata": {},
   "source": [
    "## Provide download links for the submission files"
   ]
  },
  {
   "cell_type": "code",
   "execution_count": 16,
   "id": "ffa83448-edd3-4f11-aa20-fbe1e9022eb6",
   "metadata": {},
   "outputs": [
    {
     "data": {
      "text/plain": [
       "('submission_lr.csv', 'submission_rf.csv')"
      ]
     },
     "execution_count": 16,
     "metadata": {},
     "output_type": "execute_result"
    }
   ],
   "source": [
    "submission_lr_path, submission_rf_path"
   ]
  },
  {
   "cell_type": "markdown",
   "id": "42a4e2ba-58ef-4879-82c5-232932ae66ec",
   "metadata": {},
   "source": [
    "## Recommendations to Improve RMSLE \n",
    "1. Hyperparameter Tuning: Use GridSearchCV or RandomizedSearchCV to find the optimal model parameters.\n",
    "2. Feature Engineering: Generate new meaningful features, such as ratios between weights.\n",
    "3. Outlier Detection: Identify and remove or adjust outliers that could be skewing predictions.\n",
    "4. Log Transformation: Apply log transformation to Rings to stabilize variance and improve model performance.\n",
    "5. Increase Model Complexity: Try boosting algorithms like XGBoost or LightGBM for better performance.\n",
    "6. Cross-Validation: Use k-fold cross-validation to improve generalization and avoid overfitting.\n",
    "7. Ensemble Methods: Combine multiple models (e.g., blend Linear Regression and Random Forest) to reduce bias and variance."
   ]
  },
  {
   "cell_type": "code",
   "execution_count": null,
   "id": "354a3ad2-1b68-4b07-b8d7-5c5b087c8870",
   "metadata": {},
   "outputs": [],
   "source": []
  }
 ],
 "metadata": {
  "kernelspec": {
   "display_name": "Python 3 (ipykernel)",
   "language": "python",
   "name": "python3"
  },
  "language_info": {
   "codemirror_mode": {
    "name": "ipython",
    "version": 3
   },
   "file_extension": ".py",
   "mimetype": "text/x-python",
   "name": "python",
   "nbconvert_exporter": "python",
   "pygments_lexer": "ipython3",
   "version": "3.9.19"
  }
 },
 "nbformat": 4,
 "nbformat_minor": 5
}
