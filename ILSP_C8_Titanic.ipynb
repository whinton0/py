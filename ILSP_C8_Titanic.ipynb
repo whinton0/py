{
 "cells": [
  {
   "cell_type": "markdown",
   "id": "c0b4dbc6-8024-4baa-a90d-78d30b1d4f1d",
   "metadata": {},
   "source": [
    "# Assignment 6 - Concept and Applied questions (ISLP, pp. 363-366)"
   ]
  },
  {
   "cell_type": "code",
   "execution_count": 5,
   "id": "339bd239-19a1-427a-9dd2-986baf34e6ac",
   "metadata": {},
   "outputs": [],
   "source": [
    "__author__ = \"Will Hinton\"\n",
    "__email__ = \"willhint@gmail.com\"\n",
    "__website__ = \"whinton0.github.com/py\""
   ]
  },
  {
   "cell_type": "markdown",
   "id": "0bab6508-8378-4af2-8587-eb1151a900f7",
   "metadata": {},
   "source": [
    "# <font color='blue'>Concept Question (Chapter 8, number 1. ISLP, p. 363) </font>\n",
    "The following is based on the hypothetical example.\n",
    "\n",
    "Decision Tree  \n",
    "The decision tree shows the splits on features A and B:\n",
    "- A<3.0: First split  \n",
    "   - B<2.0: Leads to Region R1 \n",
    "   - A<1.5: Further split for Region R2 and R3 \n",
    "     - R2:A<1.5 \n",
    "     - R3:A≥1.5 \n",
    "- A≥3.0: Leads to further splits\n",
    "   - B<2.5: Leads to Region R4\n",
    "   - A<4.0: Further split for Region R5 and R6\n",
    "     - R5: A<4.0\n",
    "     - R6:A≥4.0 \n",
    "\n",
    "Partitioned Feature Space  \n",
    "The feature space is divided into six regions:\n",
    "- R1:A<3.0, B<2.0\n",
    "- R2:A<1.5, B≥2.0\n",
    "- R3:A≥1.5, A<3.0, B≥2.0\n",
    "- R4:A≥3.0, B<2.5\n",
    "- R5:A<4.0, B≥2.5\n",
    "- R6:A≥4.0, B≥2.5 \n",
    "\n",
    "![Visualization Here](./decisiontree0.png)"
   ]
  },
  {
   "cell_type": "markdown",
   "id": "9a2b6931-3c3d-426e-8563-a32e2cfe1af0",
   "metadata": {},
   "source": [
    "# <font color='blue'>Applied Question (Chapter 8, number 12. ISLP, p. 366) </font> \n",
    "## ILSP Chapter 8: Titanic - Tree-Based Modeling Methods\n",
    "This notebook demonstrates how to apply **Boosting**, **Bagging**, **Random Forest**, and **BART** to the Titanic dataset using Python. We'll compare their performance against simple models like **Logistic Regression** and **Decision Tree** using accuracy as the metric."
   ]
  },
  {
   "cell_type": "code",
   "execution_count": 6,
   "id": "db8f104d",
   "metadata": {},
   "outputs": [],
   "source": [
    "\n",
    "import pandas as pd\n",
    "import numpy as np\n",
    "from sklearn.model_selection import train_test_split\n",
    "from sklearn.preprocessing import LabelEncoder\n",
    "from sklearn.metrics import accuracy_score\n",
    "from sklearn.ensemble import BaggingClassifier, RandomForestClassifier, GradientBoostingClassifier\n",
    "from sklearn.linear_model import LogisticRegression\n",
    "from sklearn.tree import DecisionTreeClassifier\n",
    "\n",
    "# Optional: BART (if installed)\n",
    "try:\n",
    "    from bartpy.sklearnmodel import SklearnModel as BARTClassifier\n",
    "    bart_available = True\n",
    "except ImportError:\n",
    "    bart_available = False\n"
   ]
  },
  {
   "cell_type": "code",
   "execution_count": 7,
   "id": "98736689",
   "metadata": {
    "scrolled": true
   },
   "outputs": [],
   "source": [
    "\n",
    "def preprocess(df):\n",
    "    df = df.copy()\n",
    "    df['Age'] = df['Age'].fillna(df['Age'].median())\n",
    "    df['Embarked'] = df['Embarked'].fillna(df['Embarked'].mode()[0])\n",
    "    df['Fare'] = df['Fare'].fillna(df['Fare'].median())\n",
    "    df['Sex'] = LabelEncoder().fit_transform(df['Sex'])\n",
    "    df['Embarked'] = LabelEncoder().fit_transform(df['Embarked'])\n",
    "    df['Title'] = df['Name'].apply(lambda x: x.split(',')[1].split('.')[0].strip())\n",
    "    df['Title'] = LabelEncoder().fit_transform(df['Title'])\n",
    "    df = df.drop(['Cabin', 'Ticket', 'Name', 'PassengerId'], axis=1, errors='ignore')\n",
    "    return df\n",
    "\n",
    "# Load datasets\n",
    "train_df = pd.read_csv(\"train.csv\")\n",
    "train_df = preprocess(train_df)\n",
    "\n",
    "# Split into training and test set\n",
    "X = train_df.drop('Survived', axis=1)\n",
    "y = train_df['Survived']\n",
    "X_train, X_test, y_train, y_test = train_test_split(X, y, test_size=0.2, random_state=42)\n"
   ]
  },
  {
   "cell_type": "code",
   "execution_count": 8,
   "id": "a4353c6f",
   "metadata": {},
   "outputs": [
    {
     "data": {
      "text/html": [
       "<div>\n",
       "<style scoped>\n",
       "    .dataframe tbody tr th:only-of-type {\n",
       "        vertical-align: middle;\n",
       "    }\n",
       "\n",
       "    .dataframe tbody tr th {\n",
       "        vertical-align: top;\n",
       "    }\n",
       "\n",
       "    .dataframe thead th {\n",
       "        text-align: right;\n",
       "    }\n",
       "</style>\n",
       "<table border=\"1\" class=\"dataframe\">\n",
       "  <thead>\n",
       "    <tr style=\"text-align: right;\">\n",
       "      <th></th>\n",
       "      <th>Model</th>\n",
       "      <th>Accuracy</th>\n",
       "    </tr>\n",
       "  </thead>\n",
       "  <tbody>\n",
       "    <tr>\n",
       "      <th>0</th>\n",
       "      <td>Random Forest</td>\n",
       "      <td>0.837989</td>\n",
       "    </tr>\n",
       "    <tr>\n",
       "      <th>1</th>\n",
       "      <td>Bagging</td>\n",
       "      <td>0.815642</td>\n",
       "    </tr>\n",
       "    <tr>\n",
       "      <th>2</th>\n",
       "      <td>Boosting (GBM)</td>\n",
       "      <td>0.804469</td>\n",
       "    </tr>\n",
       "    <tr>\n",
       "      <th>3</th>\n",
       "      <td>Logistic Regression</td>\n",
       "      <td>0.798883</td>\n",
       "    </tr>\n",
       "    <tr>\n",
       "      <th>4</th>\n",
       "      <td>Decision Tree</td>\n",
       "      <td>0.782123</td>\n",
       "    </tr>\n",
       "  </tbody>\n",
       "</table>\n",
       "</div>"
      ],
      "text/plain": [
       "                 Model  Accuracy\n",
       "0        Random Forest  0.837989\n",
       "1              Bagging  0.815642\n",
       "2       Boosting (GBM)  0.804469\n",
       "3  Logistic Regression  0.798883\n",
       "4        Decision Tree  0.782123"
      ]
     },
     "execution_count": 8,
     "metadata": {},
     "output_type": "execute_result"
    }
   ],
   "source": [
    "\n",
    "models = {\n",
    "    'Bagging': BaggingClassifier(n_estimators=100, random_state=42),\n",
    "    'Random Forest': RandomForestClassifier(n_estimators=100, random_state=42),\n",
    "    'Boosting (GBM)': GradientBoostingClassifier(random_state=42),\n",
    "    'Logistic Regression': LogisticRegression(max_iter=1000, random_state=42),\n",
    "    'Decision Tree': DecisionTreeClassifier(random_state=42)\n",
    "}\n",
    "\n",
    "if bart_available:\n",
    "    models['BART'] = BARTClassifier()\n",
    "\n",
    "# Train and evaluate models\n",
    "results = []\n",
    "for name, model in models.items():\n",
    "    model.fit(X_train, y_train)\n",
    "    preds = model.predict(X_test)\n",
    "    acc = accuracy_score(y_test, preds)\n",
    "    results.append({'Model': name, 'Accuracy': acc})\n",
    "\n",
    "results_df = pd.DataFrame(results).sort_values(by='Accuracy', ascending=False).reset_index(drop=True)\n",
    "results_df\n"
   ]
  },
  {
   "cell_type": "code",
   "execution_count": 9,
   "id": "18e30a19-017c-447b-8062-93db6696a9a6",
   "metadata": {},
   "outputs": [
    {
     "data": {
      "image/png": "[encoded data removed]",
      "text/plain": [
       "<Figure size 1000x600 with 1 Axes>"
      ]
     },
     "metadata": {},
     "output_type": "display_data"
    }
   ],
   "source": [
    "# Import plotting libraries\n",
    "import matplotlib.pyplot as plt\n",
    "import seaborn as sns\n",
    "\n",
    "# Set plot style\n",
    "sns.set(style=\"whitegrid\")\n",
    "\n",
    "# Create a barplot for model accuracy comparison\n",
    "plt.figure(figsize=(10, 6))\n",
    "sns.barplot(data=results_df, x='Accuracy', y='Model', hue='Model', palette='crest', legend=False)\n",
    "\n",
    "# Add titles and labels\n",
    "plt.title('Model Accuracy Comparison: Tree-Based vs. Simple Methods', fontsize=14)\n",
    "plt.xlabel('Accuracy')\n",
    "plt.ylabel('Model')\n",
    "plt.xlim(0.7, 1.0)  # optional: adjust x-axis to zoom in\n",
    "plt.tight_layout()\n",
    "\n",
    "# Annotate accuracy scores on the bars\n",
    "for i, row in results_df.iterrows():\n",
    "    plt.text(row['Accuracy'] + 0.005, i, f\"{row['Accuracy']:.3f}\", va='center')\n",
    "\n",
    "# Show the plot\n",
    "plt.show()"
   ]
  },
  {
   "cell_type": "markdown",
   "id": "0eeb2043",
   "metadata": {},
   "source": [
    "\n",
    "# 📊 Model Accuracy Comparison and Interpretation\n",
    "\n",
    "- **Random Forest** consistently shows the highest accuracy, benefiting from both randomness and ensemble power.\n",
    "- **Bagging** and **Boosting (GBM)** also outperform simple models, offering enhanced generalization by reducing variance and bias.\n",
    "- **Logistic Regression** performs decently but lacks the flexibility to model complex interactions.\n",
    "- **Decision Tree** has lower accuracy due to its tendency to overfit the training data.\n",
    "- **BART** (if available) can provide strong accuracy with Bayesian uncertainty quantification, making it a competitive method for structured data.\n",
    "\n",
    "✅ **Conclusion**: Tree-based ensemble methods (Random Forest and Boosting) are superior for structured data like Titanic, achieving higher accuracy than simpler models.\n"
   ]
  },
  {
   "cell_type": "code",
   "execution_count": null,
   "id": "3138612f-a05c-465d-87bb-9e2933347b17",
   "metadata": {},
   "outputs": [],
   "source": []
  }
 ],
 "metadata": {
  "kernelspec": {
   "display_name": "Python 3 (ipykernel)",
   "language": "python",
   "name": "python3"
  },
  "language_info": {
   "codemirror_mode": {
    "name": "ipython",
    "version": 3
   },
   "file_extension": ".py",
   "mimetype": "text/x-python",
   "name": "python",
   "nbconvert_exporter": "python",
   "pygments_lexer": "ipython3",
   "version": "3.9.19"
  }
 },
 "nbformat": 4,
 "nbformat_minor": 5
}
