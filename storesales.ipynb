{
 "cells": [
  {
   "cell_type": "markdown",
   "id": "eb384d05-b1b9-4f1b-805c-ca478fee1d29",
   "metadata": {},
   "source": [
    "# Building and Evaluating Models for Time Series Forecasting - Store Sales"
   ]
  },
  {
   "cell_type": "code",
   "execution_count": 15,
   "id": "ac18e9d9-f0ea-434a-81a4-160c12391c9e",
   "metadata": {},
   "outputs": [],
   "source": [
    "__author__ = \"Will Hinton\"\n",
    "__email__ = \"willhint@gmail.com\"\n",
    "__website__ = \"whinton0.github.com/py\""
   ]
  },
  {
   "cell_type": "markdown",
   "id": "c3d1eab9-236e-4901-a4ed-67bdebe55ae1",
   "metadata": {},
   "source": [
    "# Import required libraries"
   ]
  },
  {
   "cell_type": "code",
   "execution_count": 16,
   "id": "041e659f-b54f-4c6f-999a-920028bcd0f3",
   "metadata": {},
   "outputs": [],
   "source": [
    "import pandas as pd\n",
    "import numpy as np\n",
    "import matplotlib.pyplot as plt\n",
    "from statsmodels.tsa.exponential_smoothing.ets import ETSModel\n",
    "from statsmodels.tsa.arima.model import ARIMA\n",
    "from sklearn.metrics import mean_squared_log_error\n",
    "import warnings\n",
    "warnings.filterwarnings(\"ignore\")"
   ]
  },
  {
   "cell_type": "markdown",
   "id": "35b7c65f-f413-4871-a2c7-677372697878",
   "metadata": {},
   "source": [
    "# Load datasets"
   ]
  },
  {
   "cell_type": "code",
   "execution_count": 17,
   "id": "80873d9a-48e0-45e8-b3e1-23252bde686f",
   "metadata": {},
   "outputs": [],
   "source": [
    "train = pd.read_csv(\"train.csv\", parse_dates=[\"date\"])\n",
    "test = pd.read_csv(\"test.csv\", parse_dates=[\"date\"])\n",
    "stores = pd.read_csv(\"stores.csv\")\n",
    "oil = pd.read_csv(\"oil.csv\", parse_dates=[\"date\"])\n",
    "holidays = pd.read_csv(\"holidays_events.csv\", parse_dates=[\"date\"])\n",
    "transactions = pd.read_csv(\"transactions.csv\", parse_dates=[\"date\"])"
   ]
  },
  {
   "cell_type": "markdown",
   "id": "ba9f2939-4946-4243-9c1a-d491c9ff75c9",
   "metadata": {},
   "source": [
    "# Preprocess \n",
    "- Capture unique store-family combinations\n",
    "- Define RMSLE"
   ]
  },
  {
   "cell_type": "code",
   "execution_count": 18,
   "id": "8da329e5-8b01-4c78-932e-58705378aa82",
   "metadata": {},
   "outputs": [],
   "source": [
    "ids = []\n",
    "ets_preds = []\n",
    "arima_preds = []\n",
    "ets_truths = []\n",
    "arima_truths = []\n",
    "\n",
    "combinations = test[[\"store_nbr\", \"family\"]].drop_duplicates()\n",
    "\n",
    "# RMSLE function\n",
    "def rmsle(y_true, y_pred):\n",
    "    return np.sqrt(mean_squared_log_error(y_true, np.maximum(0, y_pred)))\n",
    "\n",
    "rmsle_scores = {\"ETS\": [], \"ARIMA\": []}"
   ]
  },
  {
   "cell_type": "markdown",
   "id": "7cc739dd-9664-4160-8c9d-c9882b0e7543",
   "metadata": {},
   "source": [
    "# Forecasting Loop\n",
    "- iterate over (store_nbr, family) combos\n",
    "- ETS Forecast\n",
    "- ARIMA Forecast\n",
    "- Collect predictions and ids"
   ]
  },
  {
   "cell_type": "code",
   "execution_count": 24,
   "id": "3bc0b1c5-967e-4192-8234-490ef67cf32e",
   "metadata": {},
   "outputs": [],
   "source": [
    "for (store, family) in combinations.itertuples(index=False):\n",
    "    df = train[(train[\"store_nbr\"] == store) & (train[\"family\"] == family)].copy()\n",
    "    df = df[[\"date\", \"sales\"]].set_index(\"date\").asfreq(\"D\").fillna(method=\"ffill\")\n",
    "\n",
    "    test_sub = test[(test[\"store_nbr\"] == store) & (test[\"family\"] == family)].copy()\n",
    "    test_sub = test_sub.set_index(\"date\").asfreq(\"D\")\n",
    "\n",
    "    if len(df) < 100:\n",
    "        continue\n",
    "\n",
    "    train_data = df[\"sales\"]\n",
    "    test_index = test_sub.index \n",
    "    \n",
    "    # Ground truth \n",
    "    actual_sales = df.reindex(test_index)[\"sales\"].fillna(method=\"ffill\").fillna(0).values\n",
    "\n",
    "    # ETS\n",
    "    try:\n",
    "        ets_model = ETSModel(train_data, error=\"add\", trend=\"add\", seasonal=None, damped_trend=True)\n",
    "        ets_fit = ets_model.fit(disp=False)\n",
    "        ets_forecast = ets_fit.forecast(steps=len(test_data))\n",
    "    except:\n",
    "        ets_forecast = pd.Series([train_data.mean()] * len(test_data), index=test_data)\n",
    "\n",
    "    # ARIMA\n",
    "    try:\n",
    "        arima_model = ARIMA(train_data, order=(1,1,1))\n",
    "        arima_fit = arima_model.fit()\n",
    "        arima_forecast = arima_fit.forecast(steps=len(test_data))\n",
    "    except:\n",
    "        arima_forecast = pd.Series([train_data.mean()] * len(test_data), index=test_data)\n",
    "\n",
    "     # Save predictions and IDs\n",
    "    combo_ids = test[(test[\"store_nbr\"] == store) & (test[\"family\"] == family)][\"id\"].values\n",
    "    ids.extend(combo_ids)\n",
    "    ets_preds.extend(np.maximum(0, ets_forecast.values))\n",
    "    arima_preds.extend(np.maximum(0, arima_forecast.values))\n",
    "    \n",
    "    ets_truths.extend(actual_sales)\n",
    "    arima_truths.extend(actual_sales)"
   ]
  },
  {
   "cell_type": "markdown",
   "id": "23609e6f-3640-4c8a-a2fd-f9c4e8d673dc",
   "metadata": {},
   "source": [
    "# Calculate Actual RMSLE Scores"
   ]
  },
  {
   "cell_type": "code",
   "execution_count": 23,
   "id": "9415cfc2-74f7-4760-a453-4f073701e605",
   "metadata": {},
   "outputs": [
    {
     "name": "stdout",
     "output_type": "stream",
     "text": [
      "\n",
      "Actual RMSLE Scores:\n",
      "ETS: 4.43514\n",
      "ARIMA: 4.45022\n"
     ]
    }
   ],
   "source": [
    "rmsle_ets = rmsle(ets_truths, ets_preds)\n",
    "rmsle_arima = rmsle(arima_truths, arima_preds)\n",
    "\n",
    "rmsle_summary = {\"ETS\": rmsle_ets, \"ARIMA\": rmsle_arima}\n",
    "print(\"\\nActual RMSLE Scores:\")\n",
    "for model, score in rmsle_summary.items():\n",
    "    print(f\"{model}: {score:.5f}\")"
   ]
  },
  {
   "cell_type": "markdown",
   "id": "2a16ac13-5022-440b-b487-76f65a8b51c6",
   "metadata": {},
   "source": [
    "# Plot RMSLE Comparison "
   ]
  },
  {
   "cell_type": "code",
   "execution_count": 20,
   "id": "0e68256a",
   "metadata": {},
   "outputs": [
    {
     "data": {
      "image/png": "[encoded data removed]",
      "text/plain": [
       "<Figure size 800x300 with 1 Axes>"
      ]
     },
     "metadata": {},
     "output_type": "display_data"
    }
   ],
   "source": [
    "#rmsle_summary = {\"ETS\": 0.45, \"ARIMA\": 0.42}  # Replace with validation logic if available\n",
    "\n",
    "import matplotlib.pyplot as plt\n",
    "score_df = pd.DataFrame(list(rmsle_summary.items()), columns=[\"Model\", \"RMSLE\"])\n",
    "score_df.sort_values(\"RMSLE\", inplace=True)\n",
    "\n",
    "plt.figure(figsize=(8, 3))\n",
    "plt.barh(score_df[\"Model\"], score_df[\"RMSLE\"], color=\"skyblue\")\n",
    "plt.xlabel(\"RMSLE\")\n",
    "plt.title(\"Model Performance Comparison (RMSLE)\")\n",
    "plt.tight_layout()\n",
    "plt.show()"
   ]
  },
  {
   "cell_type": "markdown",
   "id": "70361614-22d6-4061-befb-4e3429ad5d06",
   "metadata": {},
   "source": [
    "# Final Submission Files"
   ]
  },
  {
   "cell_type": "code",
   "execution_count": 21,
   "id": "46b952ad-66c8-4610-9ae9-8aa435d9bd23",
   "metadata": {},
   "outputs": [],
   "source": [
    "submission_ets = pd.DataFrame({\"id\": ids, \"sales\": ets_preds})\n",
    "submission_arima = pd.DataFrame({\"id\": ids, \"sales\": arima_preds})\n",
    "\n",
    "submission_ets.to_csv(\"submission_ets.csv\", index=False)\n",
    "submission_arima.to_csv(\"submission_arima.csv\", index=False)"
   ]
  },
  {
   "cell_type": "markdown",
   "id": "caa327f8-51bd-46cc-96d8-3701f216ce0a",
   "metadata": {},
   "source": [
    "# Summary & Conclusion"
   ]
  },
  {
   "cell_type": "markdown",
   "id": "c3e02b84-7633-4346-8f2c-555e047fa710",
   "metadata": {},
   "source": [
    "This exercise builds time-series forecasting models for sales prediction across all\n",
    "(store_nbr, family) combinations in the Favorita dataset. Using ETS and ARIMA, it generates\n",
    "out-of-sample forecasts for each product group and assembles them into submission-ready files.  \n",
    "\n",
    "The ETS model is suited for series with trend and error structure, while ARIMA adds autoregressive\n",
    "and moving average dynamics. Fallback to average predictions ensures robustness for sparse series.  \n",
    "\n",
    "The RMSLE bar plot summarizes error scores; real evaluation should include validation\n",
    "splits for each group. This exercise demonstrates scalable forecasting across hierarchical series\n",
    "and sets the stage for more advanced multi-variate or exogenous models like SARIMAX or ML regressors.  "
   ]
  },
  {
   "cell_type": "code",
   "execution_count": null,
   "id": "26acb2d6-34f5-4451-8dd2-93d3c79bf1a4",
   "metadata": {},
   "outputs": [],
   "source": []
  }
 ],
 "metadata": {
  "kernelspec": {
   "display_name": "Python 3 (ipykernel)",
   "language": "python",
   "name": "python3"
  },
  "language_info": {
   "codemirror_mode": {
    "name": "ipython",
    "version": 3
   },
   "file_extension": ".py",
   "mimetype": "text/x-python",
   "name": "python",
   "nbconvert_exporter": "python",
   "pygments_lexer": "ipython3",
   "version": "3.9.19"
  }
 },
 "nbformat": 4,
 "nbformat_minor": 5
}
