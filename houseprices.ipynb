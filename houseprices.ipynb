{
 "cells": [
  {
   "cell_type": "markdown",
   "id": "ba904dd1-23ee-4f44-b6b6-55f46bf7affe",
   "metadata": {},
   "source": [
    "# House Prices Prediction using Gradient Boosting and PCA + Lasso\n",
    "This notebook performs house price prediction using:\n",
    "- **GradientBoostingRegressor** from `sklearn`\n",
    "- **PCA + LassoCV** regression model\n",
    "It applies preprocessing, polynomial features, dimensionality reduction, and model evaluation based on log RMSE.  \n",
    "\n",
    "Several models were considered for this particular Kaggle competition including linear, non-linear and tree-based. My selection was semi-random in that I wanted one linear method and one non-linear tree-based method. So I selected gradient boosting and PCA/LassoCV.\n",
    "Submissions files are generated for Kaggle"
   ]
  },
  {
   "cell_type": "markdown",
   "id": "8eca6932",
   "metadata": {},
   "source": [
    "## 1. Import Required Libraries and Load Data"
   ]
  },
  {
   "cell_type": "code",
   "execution_count": 8,
   "id": "876a4714",
   "metadata": {},
   "outputs": [],
   "source": [
    "import pandas as pd\n",
    "import numpy as np\n",
    "import matplotlib.pyplot as plt\n",
    "from sklearn.model_selection import train_test_split\n",
    "from sklearn.linear_model import LassoCV\n",
    "from sklearn.ensemble import GradientBoostingRegressor\n",
    "from sklearn.preprocessing import StandardScaler, PolynomialFeatures, OneHotEncoder\n",
    "from sklearn.decomposition import PCA\n",
    "from sklearn.pipeline import Pipeline\n",
    "from sklearn.compose import ColumnTransformer\n",
    "from sklearn.impute import SimpleImputer\n",
    "from sklearn.metrics import mean_squared_error\n",
    "\n",
    "# Load data\n",
    "train = pd.read_csv(\"train.csv\")\n",
    "test = pd.read_csv(\"test.csv\")\n",
    "test_ids = test[\"Id\"]"
   ]
  },
  {
   "cell_type": "markdown",
   "id": "b34befca",
   "metadata": {},
   "source": [
    "## 2. Combine Train and Test for Uniform Preprocessing"
   ]
  },
  {
   "cell_type": "code",
   "execution_count": 9,
   "id": "60763e2a",
   "metadata": {},
   "outputs": [],
   "source": [
    "\n",
    "# Tag and merge\n",
    "train[\"source\"] = \"train\"\n",
    "test[\"source\"] = \"test\"\n",
    "test[\"SalePrice\"] = np.nan\n",
    "full = pd.concat([train, test], sort=False)\n",
    "\n",
    "# Drop Id now that it's saved\n",
    "full.drop(\"Id\", axis=1, inplace=True)\n",
    "\n",
    "# Split before defining features\n",
    "train = full[full[\"source\"] == \"train\"].copy()\n",
    "test = full[full[\"source\"] == \"test\"].copy()\n",
    "train.drop(columns=\"source\", inplace=True)\n",
    "test.drop(columns=[\"source\", \"SalePrice\"], inplace=True)\n"
   ]
  },
  {
   "cell_type": "markdown",
   "id": "5aa19f41",
   "metadata": {},
   "source": [
    "## 3. Define Feature Types and Preprocessing Pipelines"
   ]
  },
  {
   "cell_type": "code",
   "execution_count": 10,
   "id": "d99af7e3",
   "metadata": {},
   "outputs": [],
   "source": [
    "# Identify feature columns\n",
    "features = full.drop(columns=[\"SalePrice\", \"source\"])\n",
    "num_cols = features.select_dtypes(include=[\"int64\", \"float64\"]).columns.tolist()\n",
    "cat_cols = features.select_dtypes(include=[\"object\"]).columns.tolist()\n",
    "\n",
    "# Pipelines\n",
    "num_pipeline = Pipeline([\n",
    "    (\"imputer\", SimpleImputer(strategy=\"median\")),\n",
    "    (\"scaler\", StandardScaler())\n",
    "])\n",
    "cat_pipeline = Pipeline([\n",
    "    (\"imputer\", SimpleImputer(strategy=\"most_frequent\")),\n",
    "    (\"encoder\", OneHotEncoder(handle_unknown=\"ignore\"))\n",
    "])\n",
    "preprocessor = ColumnTransformer([\n",
    "    (\"num\", num_pipeline, num_cols),\n",
    "    (\"cat\", cat_pipeline, cat_cols)\n",
    "])"
   ]
  },
  {
   "cell_type": "markdown",
   "id": "968e7662",
   "metadata": {},
   "source": [
    "## 4. Define Training Data and RMSE Function"
   ]
  },
  {
   "cell_type": "code",
   "execution_count": 11,
   "id": "cdf82329",
   "metadata": {},
   "outputs": [],
   "source": [
    "X = train.drop(columns=\"SalePrice\")\n",
    "y = np.log1p(train[\"SalePrice\"])\n",
    "\n",
    "def rmse_log(preds, actuals):\n",
    "    return np.sqrt(mean_squared_error(np.log1p(actuals), np.log1p(preds)))\n",
    "\n",
    "rmse_results = []\n"
   ]
  },
  {
   "cell_type": "markdown",
   "id": "4fdbece9",
   "metadata": {},
   "source": [
    "## 5. Train GradientBoostingRegressor"
   ]
  },
  {
   "cell_type": "code",
   "execution_count": 12,
   "id": "a01a6da5",
   "metadata": {},
   "outputs": [],
   "source": [
    "gbr_pipeline = Pipeline([\n",
    "    (\"preprocessor\", preprocessor),\n",
    "    (\"gbr\", GradientBoostingRegressor(n_estimators=300, learning_rate=0.05,\n",
    "                                      max_depth=4, random_state=42))\n",
    "])\n",
    "gbr_pipeline.fit(X, y)\n",
    "gbr_preds_train = np.expm1(gbr_pipeline.predict(X))\n",
    "gbr_preds_test = np.expm1(gbr_pipeline.predict(test))\n",
    "rmse_gbr = rmse_log(gbr_preds_train, np.expm1(y))\n",
    "rmse_results.append((\"GradientBoostingRegressor\", rmse_gbr))\n",
    "pd.DataFrame({\"Id\": test_ids, \"SalePrice\": gbr_preds_test}).to_csv(\"submission_gbr.csv\", index=False)"
   ]
  },
  {
   "cell_type": "markdown",
   "id": "f6f4c9df",
   "metadata": {},
   "source": [
    "## 6. Train PCA + Lasso Model"
   ]
  },
  {
   "cell_type": "code",
   "execution_count": 13,
   "id": "2bf702f9",
   "metadata": {},
   "outputs": [],
   "source": [
    "lasso_pipeline = Pipeline([\n",
    "    (\"preprocessor\", preprocessor),\n",
    "    (\"poly\", PolynomialFeatures(degree=2, include_bias=False)),\n",
    "    (\"pca\", PCA(n_components=100)),\n",
    "    (\"lasso\", LassoCV(cv=5))\n",
    "])\n",
    "lasso_pipeline.fit(X, y)\n",
    "lasso_preds_train = np.expm1(lasso_pipeline.predict(X))\n",
    "lasso_preds_test = np.expm1(lasso_pipeline.predict(test))\n",
    "rmse_lasso = rmse_log(lasso_preds_train, np.expm1(y))\n",
    "rmse_results.append((\"PCA + Lasso\", rmse_lasso))\n",
    "pd.DataFrame({\"Id\": test_ids, \"SalePrice\": lasso_preds_test}).to_csv(\"submission_lasso.csv\", index=False)"
   ]
  },
  {
   "cell_type": "markdown",
   "id": "163f1adf",
   "metadata": {},
   "source": [
    "## 7. Compare Model RMSEs"
   ]
  },
  {
   "cell_type": "code",
   "execution_count": 14,
   "id": "f0e0a459",
   "metadata": {},
   "outputs": [
    {
     "name": "stdout",
     "output_type": "stream",
     "text": [
      "                       Model  Log RMSE\n",
      "0  GradientBoostingRegressor  0.051105\n",
      "1                PCA + Lasso  0.127668\n"
     ]
    },
    {
     "data": {
      "image/png": "[encoded data removed]",
      "text/plain": [
       "<Figure size 800x200 with 1 Axes>"
      ]
     },
     "metadata": {},
     "output_type": "display_data"
    }
   ],
   "source": [
    "rmse_df = pd.DataFrame(rmse_results, columns=[\"Model\", \"Log RMSE\"])\n",
    "print(rmse_df)\n",
    "\n",
    "plt.figure(figsize=(8, 2))\n",
    "plt.barh(rmse_df[\"Model\"], rmse_df[\"Log RMSE\"], color=\"skyblue\")\n",
    "plt.xlabel(\"Log RMSE\")\n",
    "plt.title(\"Model RMSE Comparison\")\n",
    "plt.tight_layout()\n",
    "plt.show(\"rmse_comparison.png\")"
   ]
  },
  {
   "cell_type": "markdown",
   "id": "160cf6d1",
   "metadata": {},
   "source": [
    "## 8. Final Comments\n",
    "Both models use effective preprocessing techniques:\n",
    "- GBR captures non-linear interactions robustly.\n",
    "- PCA + Lasso uses polynomial expansion and dimensionality reduction.\n",
    "\n",
    "Submissions were saved to:\n",
    "- `submission_gbr.csv`\n",
    "- `submission_lasso.csv`\n",
    "\n",
    "The plot (`rmse_comparison.png`) shows model performance."
   ]
  },
  {
   "cell_type": "code",
   "execution_count": null,
   "id": "2369a6d6-761c-4e27-9d9c-40852752e34c",
   "metadata": {},
   "outputs": [],
   "source": []
  }
 ],
 "metadata": {
  "kernelspec": {
   "display_name": "Python 3 (ipykernel)",
   "language": "python",
   "name": "python3"
  },
  "language_info": {
   "codemirror_mode": {
    "name": "ipython",
    "version": 3
   },
   "file_extension": ".py",
   "mimetype": "text/x-python",
   "name": "python",
   "nbconvert_exporter": "python",
   "pygments_lexer": "ipython3",
   "version": "3.9.19"
  }
 },
 "nbformat": 4,
 "nbformat_minor": 5
}
