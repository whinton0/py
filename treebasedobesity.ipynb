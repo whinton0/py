{
 "cells": [
  {
   "cell_type": "markdown",
   "id": "84c90178",
   "metadata": {},
   "source": [
    "# Tree-Based Modeling for Multi-Class Obesity Prediction"
   ]
  },
  {
   "cell_type": "code",
   "execution_count": 10,
   "id": "c319cd31-ca6a-42e3-baf9-a694d8af583f",
   "metadata": {},
   "outputs": [],
   "source": [
    "__author__ = \"Will Hinton\"\n",
    "__email__ = \"willhint@gmail.com\"\n",
    "__website__ = \"whinton0.github.com/py\""
   ]
  },
  {
   "cell_type": "code",
   "execution_count": 8,
   "id": "9aeccde7-0753-4834-a010-b0aa503ed565",
   "metadata": {},
   "outputs": [],
   "source": [
    "import pandas as pd\n",
    "import numpy as np\n",
    "import seaborn as sns\n",
    "import matplotlib.pyplot as plt\n",
    "\n",
    "from sklearn.model_selection import train_test_split\n",
    "from sklearn.preprocessing import LabelEncoder, StandardScaler\n",
    "from sklearn.metrics import classification_report, accuracy_score\n",
    "from sklearn.tree import DecisionTreeClassifier\n",
    "from sklearn.ensemble import BaggingClassifier, RandomForestClassifier, GradientBoostingClassifier\n",
    "from sklearn.linear_model import LogisticRegression"
   ]
  },
  {
   "cell_type": "markdown",
   "id": "ead37ef8-df92-471c-8eca-a3a07b6657b9",
   "metadata": {},
   "source": [
    "## Load and Encode data \n",
    "- Load datasets\n",
    "- Encode categorical features safely \n",
    "- Encode target \n",
    "- Feature-target split"
   ]
  },
  {
   "cell_type": "code",
   "execution_count": 9,
   "id": "32da35b6-ca21-4669-8450-8f29996527d7",
   "metadata": {},
   "outputs": [],
   "source": [
    "# Load datasets\n",
    "train_df = pd.read_csv(\"train.csv\")\n",
    "test_df = pd.read_csv(\"test.csv\")\n",
    "\n",
    "# Encode categorical features safely\n",
    "encoders = {}\n",
    "categorical_cols = train_df.select_dtypes(include='object').columns.drop('NObeyesdad')\n",
    "for col in categorical_cols:\n",
    "    le = LabelEncoder()\n",
    "    train_df[col] = le.fit_transform(train_df[col])\n",
    "    test_df[col] = test_df[col].map(lambda s: le.transform([s])[0] if s in le.classes_ else -1)\n",
    "    encoders[col] = le\n",
    "\n",
    "# Encode target\n",
    "le_target = LabelEncoder()\n",
    "train_df['NObeyesdad'] = le_target.fit_transform(train_df['NObeyesdad'])\n",
    "\n",
    "# Feature-target split\n",
    "X = train_df.drop(\"NObeyesdad\", axis=1)\n",
    "y = train_df[\"NObeyesdad\"]\n",
    "X_test_final = test_df.copy()"
   ]
  },
  {
   "cell_type": "markdown",
   "id": "d3b16c1b-997f-4ffc-b074-1a49502f1281",
   "metadata": {},
   "source": [
    "## Scale features and define models"
   ]
  },
  {
   "cell_type": "code",
   "execution_count": 2,
   "id": "dfb45c02-e134-49f5-b6da-681814c18735",
   "metadata": {},
   "outputs": [],
   "source": [
    "# Scale features\n",
    "scaler = StandardScaler()\n",
    "X = scaler.fit_transform(X)\n",
    "X_test_final = scaler.transform(X_test_final)\n",
    "\n",
    "# Define models\n",
    "models = {\n",
    "    \"dt\": DecisionTreeClassifier(random_state=42),\n",
    "    \"bag\": BaggingClassifier(n_estimators=100, random_state=42),\n",
    "    \"rfc\": RandomForestClassifier(n_estimators=100, random_state=42),\n",
    "    \"gbc\": GradientBoostingClassifier(n_estimators=100, learning_rate=0.1, max_depth=3, random_state=42),\n",
    "    \"log\": LogisticRegression(max_iter=1000, random_state=42)\n",
    "}\n"
   ]
  },
  {
   "cell_type": "markdown",
   "id": "0e02cd22-bf32-4dbc-932e-eb0ee98e68d2",
   "metadata": {},
   "source": [
    "## Prepare Results"
   ]
  },
  {
   "cell_type": "code",
   "execution_count": 3,
   "id": "9eb988de",
   "metadata": {},
   "outputs": [],
   "source": [
    "results = []\n",
    "for name, model in models.items():\n",
    "    model.fit(X, y)\n",
    "    preds = model.predict(X)\n",
    "    report = classification_report(y, preds, output_dict=True)\n",
    "    acc = accuracy_score(y, preds)\n",
    "\n",
    "    results.append({\n",
    "        \"Model\": name.upper(),\n",
    "        \"Accuracy\": round(acc, 4),\n",
    "        \"Precision (macro avg)\": round(report[\"macro avg\"][\"precision\"], 4),\n",
    "        \"Recall (macro avg)\": round(report[\"macro avg\"][\"recall\"], 4),\n",
    "        \"F1-score (macro avg)\": round(report[\"macro avg\"][\"f1-score\"], 4)\n",
    "    })\n",
    "\n",
    "    # Create submission predictions\n",
    "    test_preds = model.predict(X_test_final)\n",
    "    test_labels = le_target.inverse_transform(test_preds)\n",
    "    test_ids = list(range(20758, 20758 + len(test_labels)))\n",
    "    submission = pd.DataFrame({\"id\": test_ids, \"NObeyesdad\": test_labels})\n",
    "    submission.to_csv(f\"submission_{name}.csv\", index=False)"
   ]
  },
  {
   "cell_type": "markdown",
   "id": "0beccb57-6526-4e33-a2d8-c4c35d4fff83",
   "metadata": {},
   "source": [
    "## Show Results \n",
    "- Create results DataFrame\n",
    "- Print results table"
   ]
  },
  {
   "cell_type": "code",
   "execution_count": 5,
   "id": "ec587b93-4861-4c80-b6f4-071280b96033",
   "metadata": {},
   "outputs": [
    {
     "name": "stdout",
     "output_type": "stream",
     "text": [
      "\n",
      "Model Comparison Table:\n",
      "  Model  Accuracy  Precision (macro avg)  Recall (macro avg)  \\\n",
      "0    DT    1.0000                 1.0000              1.0000   \n",
      "1   BAG    1.0000                 1.0000              1.0000   \n",
      "2   RFC    1.0000                 1.0000              1.0000   \n",
      "3   GBC    0.9206                 0.9120              0.9115   \n",
      "4   LOG    0.8620                 0.8457              0.8475   \n",
      "\n",
      "   F1-score (macro avg)  \n",
      "0                1.0000  \n",
      "1                1.0000  \n",
      "2                1.0000  \n",
      "3                0.9117  \n",
      "4                0.8462  \n"
     ]
    }
   ],
   "source": [
    "results_df = pd.DataFrame(results)\n",
    "print(\"\\nModel Comparison Table:\")\n",
    "print(results_df)"
   ]
  },
  {
   "cell_type": "markdown",
   "id": "fec9a014-a9d3-4d47-9a81-fb06e9313d39",
   "metadata": {},
   "source": [
    "## Plot Results"
   ]
  },
  {
   "cell_type": "code",
   "execution_count": 6,
   "id": "7f46ae89-62ed-418c-8a1d-f7a22f1de6f4",
   "metadata": {},
   "outputs": [
    {
     "data": {
      "image/png": "[encoded data removed]",
      "text/plain": [
       "<Figure size 1000x600 with 1 Axes>"
      ]
     },
     "metadata": {},
     "output_type": "display_data"
    }
   ],
   "source": [
    "# Plotting\n",
    "plt.figure(figsize=(10, 6))\n",
    "sns.barplot(data=results_df, x=\"Accuracy\", y=\"Model\", hue=\"Model\", legend=False, palette=\"Set2\")\n",
    "plt.title(\"Model Accuracy Comparison (Tree-Based vs Logistic Regression)\")\n",
    "plt.xlim(0.7, 1.0)\n",
    "plt.grid(True)\n",
    "plt.tight_layout()\n",
    "plt.show()"
   ]
  },
  {
   "cell_type": "markdown",
   "id": "f409fd4e-c000-478b-80bb-61c8976f98c3",
   "metadata": {},
   "source": [
    "## Comments\n",
    "Final Evaluation Summary:\n",
    "- Logistic Regression serves as a reliable baseline, but lacks flexibility for non-linear relationships.\n",
    "- Random Forest and Gradient Boosting provide superior performance across accuracy, precision, and recall.\n",
    "- Decision Tree is easy to interpret but prone to overfitting.\n",
    "- Bagging reduces variance and improves over single decision tree models."
   ]
  },
  {
   "cell_type": "code",
   "execution_count": null,
   "id": "567dca38-c6f2-4f55-88b1-f864c656cd13",
   "metadata": {},
   "outputs": [],
   "source": []
  }
 ],
 "metadata": {
  "kernelspec": {
   "display_name": "Python 3 (ipykernel)",
   "language": "python",
   "name": "python3"
  },
  "language_info": {
   "codemirror_mode": {
    "name": "ipython",
    "version": 3
   },
   "file_extension": ".py",
   "mimetype": "text/x-python",
   "name": "python",
   "nbconvert_exporter": "python",
   "pygments_lexer": "ipython3",
   "version": "3.9.19"
  }
 },
 "nbformat": 4,
 "nbformat_minor": 5
}
